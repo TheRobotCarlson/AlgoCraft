{
 "cells": [
  {
   "cell_type": "code",
   "execution_count": 12,
   "metadata": {},
   "outputs": [],
   "source": [
    "from UserAgent import UserAgent\n",
    "import random\n",
    "import time\n",
    "\n",
    "\n",
    "class MyAgent(UserAgent):\n",
    "    def __init__(self):\n",
    "        super(MyAgent, self).__init__()\n",
    "        self.name = \"Brian\"  # keep this and put your own name\n",
    "\n",
    "        # TODO: Initialize any variables you'll need here!\n",
    "        self.history = []\n",
    "\n",
    "    def take_action(self, position, world_info):\n",
    "        # TODO: replace the code below with your own!\n",
    "\n",
    "\n",
    "        # print(world_info[0]) # 3x3 square beneath our feet\n",
    "        # print(world_info[1]) # 3x3 square 1 block above our feet\n",
    "        # print(world_info[2]) # 3x3 square 2 blocks above our feet\n",
    "\n",
    "        # print(world_info[0][0], world_info[1][0], world_info[2][0]) # type of blocks in front of us\n",
    "        # print(world_info[0][2], world_info[1][2], world_info[2][2]) # type of blocks behind us\n",
    "        \n",
    "        # print(position) # our position in the map\n",
    "        self.history.append(position)\n",
    "\n",
    "        # select the next action\n",
    "        rnd = random.random()\n",
    "        \n",
    "        a = random.randint(0, len(self.actions) - 1) # actions are to move north, south, east, west ...for now\n",
    "        action = self.actions[a]\n",
    "\n",
    "        # if the two blocks in front of us are stone, randomly choose another action\n",
    "        while (action == \"north\" and (world_info[1][0][1] == \"stone\" or world_info[2][0][1] == \"stone\")):  \n",
    "            a = random.randint(0, len(self.actions) - 1)\n",
    "            action = self.actions[a]\n",
    "\n",
    "        position_change = self.position_change(action)\n",
    "        next_position = [position[i] + position_change[i] for i in range(len(position))]\n",
    "        print(\"next pos:\", next_position)\n",
    "        print(\"Random action: %s\" % action)\n",
    "\n",
    "        # try to send the selected action\n",
    "        self.move_direction(action)\n",
    "\n"
   ]
  },
  {
   "cell_type": "code",
   "execution_count": 13,
   "metadata": {},
   "outputs": [
    {
     "name": "stdout",
     "output_type": "stream",
     "text": [
      "done\n",
      "running here\n",
      "\n",
      "<module 'mission2.a' from 'C:\\\\Users\\\\brian\\\\Documents\\\\GitHub\\\\AlgoCraft\\\\missions\\\\mission2\\\\a\\\\__init__.py'>\n",
      "Loading mission from ../../missionfiles/mission2a.xml.\n",
      "Done loading mission file.\n",
      "Waiting for the mission to start .............................................. mission started\n",
      "next pos: [-1, 4, 2]\n",
      "Random action: south\n",
      "next pos: [-2, 4, 1]\n",
      "Random action: west\n",
      "next pos: [-1, 3, 2]\n",
      "Random action: east\n",
      "next pos: [-3, 3, 2]\n",
      "Random action: west\n",
      "next pos: [-2, 3, 1]\n",
      "Random action: north\n",
      "Cumulative reward: -104\n",
      "\n"
     ]
    }
   ],
   "source": [
    "# Run to submit your code. Don't modify this!\n",
    "if __name__ == \"__main__\":\n",
    "    import subprocess\n",
    "    import time\n",
    "    \n",
    "    subprocess.check_output([\"jupyter\", \"nbconvert\", \"--to\", \"script\", \"solution.ipynb\"])\n",
    "    print(\"done\")\n",
    "    time.sleep(2)\n",
    "    print(\"running here\")\n",
    "    temp = subprocess.check_output([\"python\", \"../../mission_server.py\", \"mission2.a\"]).decode(\"utf-8\").replace('\\\\\\r\\\\\\n', '\\r\\n')\n",
    "    print(temp)\n",
    "    "
   ]
  },
  {
   "cell_type": "code",
   "execution_count": 17,
   "metadata": {},
   "outputs": [
    {
     "name": "stdout",
     "output_type": "stream",
     "text": [
      "\n"
     ]
    }
   ],
   "source": [
    "print()\n"
   ]
  },
  {
   "cell_type": "code",
   "execution_count": null,
   "metadata": {},
   "outputs": [],
   "source": []
  }
 ],
 "metadata": {
  "kernelspec": {
   "display_name": "Python 3",
   "language": "python",
   "name": "python3"
  },
  "language_info": {
   "codemirror_mode": {
    "name": "ipython",
    "version": 3
   },
   "file_extension": ".py",
   "mimetype": "text/x-python",
   "name": "python",
   "nbconvert_exporter": "python",
   "pygments_lexer": "ipython3",
   "version": "3.6.3"
  }
 },
 "nbformat": 4,
 "nbformat_minor": 1
}
