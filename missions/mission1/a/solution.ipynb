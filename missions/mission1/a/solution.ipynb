{
 "cells": [
  {
   "cell_type": "code",
   "execution_count": 22,
   "metadata": {},
   "outputs": [],
   "source": [
    "from UserAgent import UserAgent\n",
    "import random\n",
    "import time\n",
    "\n",
    "\n",
    "class MyAgent(UserAgent):\n",
    "    def __init__(self):\n",
    "        super(MyAgent, self).__init__()\n",
    "        self.name = \"Christian\"  # keep this and put your own name\n",
    "\n",
    "        # TODO: Initialize any variables you'll need here!\n",
    "        self.history = []\n",
    "        self.states = [\"finding wall\", \"using right hand rule\", \"ahhh, don't know what to do\"]\n",
    "        self.state = 0\n",
    "        self.orientation = 0\n",
    "    \n",
    "    def rotate_2d_array(self, arr, num):\n",
    "        \n",
    "        rotated = arr\n",
    "        for _ in range(num):\n",
    "            rotated = zip(*rotated[::-1])\n",
    "            \n",
    "        return rotated\n",
    "    \n",
    "    def take_action(self, position, world_info):\n",
    "        print(position)\n",
    "        self.move_direction(\"east\")\n",
    "        self.try_command(\"strafe -1\")\n",
    "        \n",
    "#         world_info = self.rotate_2d_array(world_info, self.orientation)\n",
    "        \n",
    "#         x, y, z = self.target_location\n",
    "#         x, y, z = self.starting_location\n",
    "        \n",
    "#         front_ground = world_info[0][0][1]\n",
    "#         front_bottom = world_info[1][0][1]\n",
    "#         front_top    = world_info[2][0][1]\n",
    "        \n",
    "#         right_ground = world_info[0][1][2]\n",
    "#         right_bottom = world_info[1][1][2]\n",
    "#         right_top    = world_info[2][1][2]\n",
    "        # left_ground = world_info[0][1][0]\n",
    "\n",
    "        # print(world_info[0]) # 3x3 square beneath our feet\n",
    "        # print(world_info[1]) # 3x3 square 1 block above our feet\n",
    "        # print(world_info[2]) # 3x3 square 2 blocks above our feet\n",
    "\n",
    "        # print(world_info[0][0], world_info[1][0], world_info[2][0]) # blocks in front of us\n",
    "        # print(world_info[0][2], world_info[1][2], world_info[2][2]) # blocks behind us\n",
    "        \n",
    "#         # print(position) # our position in the map\n",
    "#         self.history.append(position)\n",
    "#         print(self.states[self.state])\n",
    "        \n",
    "#         if self.state == 0: # looking for a wall\n",
    "#             if front_bottom == \"stone\": # found a wall\n",
    "#                 self.turn_left()\n",
    "#                 self.state = 1\n",
    "#             else:\n",
    "#                 self.move_north()\n",
    "#             return\n",
    "#         elif self.state == 1:\n",
    "#             if right_bottom == \"stone\":\n",
    "#                 if front_bottom != \"stone\":\n",
    "#                     self.move_north()\n",
    "#                 else: # we're in a corner!\n",
    "#                     self.turn_left()\n",
    "#             elif right_bottom == \"air\": # last block was stone, opening here\n",
    "#                 self.turn_right()\n",
    "#                 self.move_north()\n",
    "#         else:\n",
    "#             self.state = 2\n",
    "            \n",
    "#         # select the next action\n",
    "#         rnd = random.random()\n",
    "        \n",
    "#         a = random.randint(0, len(self.actions) - 1) # actions are to move north, south, east, west ...for now\n",
    "#         action = self.actions[a]\n",
    "\n",
    "#         # if the two blocks in front of us are stone, randomly choose another action\n",
    "#         while (action == \"north\" and (world_info[1][0][1] == \"stone\" or world_info[2][0][1] == \"stone\")):  \n",
    "#             a = random.randint(0, len(self.actions) - 1)\n",
    "#             action = self.actions[a]\n",
    "\n",
    "#         position_change = self.position_change(action)\n",
    "#         next_position = [position[i] + position_change[i] for i in range(len(position))]\n",
    "#         print(\"next pos:\", next_position)\n",
    "#         self.logger.info(\"Random action: %s\" % action)\n",
    "\n",
    "#         # try to send the selected action\n",
    "#         self.move_direction(action)\n",
    "\n"
   ]
  },
  {
   "cell_type": "code",
   "execution_count": 27,
   "metadata": {},
   "outputs": [
    {
     "name": "stdout",
     "output_type": "stream",
     "text": [
      "done\n",
      "running here\n",
      "<module 'mission1.a' from 'C:\\\\Users\\\\brian\\\\Documents\\\\GitHub\\\\AlgoCraft\\\\missions\\\\mission1\\\\a\\\\__init__.py'>\n",
      "Loading mission from ../../missionfiles/mission1a.xml.\n",
      "Done loading mission file.\n",
      "Waiting for the mission to start ............................................ mission started\n",
      "Cumulative reward: 0\n",
      "\n"
     ]
    }
   ],
   "source": [
    "\n",
    "if __name__ == \"__main__\":\n",
    "    import subprocess\n",
    "    import time\n",
    "    \n",
    "    subprocess.check_output([\"jupyter\", \"nbconvert\", \"--to\", \"script\", \"solution.ipynb\"])\n",
    "    print(\"done\")\n",
    "    time.sleep(5)\n",
    "    print(\"running here\")\n",
    "    temp = subprocess.check_output([\"python\", \"../../mission_server.py\", \"mission1.a\"]).decode(\"utf-8\").replace('\\\\\\r\\\\\\n', '\\r\\n')\n",
    "    print(temp)\n",
    "    "
   ]
  },
  {
   "cell_type": "code",
   "execution_count": 11,
   "metadata": {},
   "outputs": [
    {
     "name": "stdout",
     "output_type": "stream",
     "text": [
      "Wall time: 1.87 s\n"
     ]
    },
    {
     "data": {
      "text/plain": [
       "b''"
      ]
     },
     "execution_count": 11,
     "metadata": {},
     "output_type": "execute_result"
    }
   ],
   "source": [
    "# %%time\n",
    "# subprocess.check_output([\"jupyter\", \"nbconvert\", \"--to\", \"script\", \"solution.ipynb\"])\n"
   ]
  },
  {
   "cell_type": "code",
   "execution_count": null,
   "metadata": {},
   "outputs": [],
   "source": []
  }
 ],
 "metadata": {
  "kernelspec": {
   "display_name": "Python 3",
   "language": "python",
   "name": "python3"
  },
  "language_info": {
   "codemirror_mode": {
    "name": "ipython",
    "version": 3
   },
   "file_extension": ".py",
   "mimetype": "text/x-python",
   "name": "python",
   "nbconvert_exporter": "python",
   "pygments_lexer": "ipython3",
   "version": "3.6.3"
  }
 },
 "nbformat": 4,
 "nbformat_minor": 1
}
