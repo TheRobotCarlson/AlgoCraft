{
 "cells": [
  {
   "cell_type": "code",
   "execution_count": 1,
   "metadata": {},
   "outputs": [],
   "source": [
    "from __future__ import print_function\n",
    "\n",
    "from future import standard_library\n",
    "standard_library.install_aliases()\n",
    "from builtins import range\n",
    "from builtins import object\n",
    "import MalmoPython\n",
    "import json\n",
    "import logging\n",
    "import os\n",
    "import random\n",
    "import sys\n",
    "import time\n",
    "from string import Template\n",
    "if sys.version_info[0] == 2:\n",
    "    # Workaround for https://github.com/PythonCharmers/python-future/issues/262\n",
    "    import Tkinter as tk\n",
    "else:\n",
    "    import tkinter as tk"
   ]
  },
  {
   "cell_type": "code",
   "execution_count": 3,
   "metadata": {},
   "outputs": [],
   "source": [
    "class UserAgent(object):\n",
    "\n",
    "    def __init__(self):\n",
    "        self.logger = logging.getLogger(__name__)\n",
    "        if False: # True if you want to see more information\n",
    "            self.logger.setLevel(logging.DEBUG)\n",
    "        else:\n",
    "            self.logger.setLevel(logging.INFO)\n",
    "            \n",
    "        self.logger.handlers = []\n",
    "        self.logger.addHandler(logging.StreamHandler(sys.stdout))\n",
    "\n",
    "        self.actions = [\"movenorth 1\", \"movesouth 1\", \"movewest 1\", \"moveeast 1\"]\n",
    "   \n",
    "        self.canvas = None\n",
    "        self.root = None\n",
    "    \n",
    "    def act(self, world_state, agent_host, current_r):\n",
    "        obs_text = world_state.observations[-1].text\n",
    "        obs = json.loads(obs_text) # most recent observation\n",
    "        self.logger.debug(obs)\n",
    "        if not 'XPos' in obs or not 'ZPos' in obs:\n",
    "            self.logger.error(\"Incomplete observation received: %s\" % obs_text)\n",
    "            return 0\n",
    "        current_s = \"%d:%d\" % (int(obs['XPos']), int(obs['ZPos']))\n",
    "        self.logger.debug(\"State: %s (x = %.2f, z = %.2f)\" % (current_s, float(obs['XPos']), float(obs['ZPos'])))\n",
    "    \n",
    "    def run(self, agent_host):\n",
    "        \n",
    "        world_state = agent_host.getWorldState()\n",
    "        \n",
    "        while world_state.is_mission_running:\n",
    "            if is_first_action:\n",
    "                while True:\n",
    "                    time.sleep(0.1)\n",
    "                    world_state = agent_host.getWorldState()\n",
    "                    for error in world_state.errors:\n",
    "                        self.logger.error(\"Error: %s\" % error.text)\n",
    "                    for reward in world_state.rewards:\n",
    "                        current_r += reward.getValue()\n",
    "                    if world_state.is_mission_running and len(world_state.observations) > 0 and not world_state.observations[-1].text==\"{}\":\n",
    "                        total_reward += self.act(world_state, agent_host, current_r)\n",
    "                        break\n",
    "                    if not world_state.is_mission_running:\n",
    "                        break\n",
    "                is_first_action = False\n",
    "            "
   ]
  },
  {
   "cell_type": "code",
   "execution_count": 16,
   "metadata": {},
   "outputs": [],
   "source": [
    "from tools.UserAgent import UserAgent"
   ]
  },
  {
   "cell_type": "code",
   "execution_count": 18,
   "metadata": {},
   "outputs": [
    {
     "name": "stdout",
     "output_type": "stream",
     "text": [
      "ERROR: Caught std::exception: unrecognised option '-f'\n",
      "\n",
      "Malmo version: 0.35.6\n",
      "\n",
      "Allowed options:\n",
      "  -h [ --help ]         show description of allowed options\n",
      "  --test                run this as an integration test\n",
      "\n",
      "\n"
     ]
    }
   ],
   "source": [
    "if sys.version_info[0] == 2:\n",
    "    sys.stdout = os.fdopen(sys.stdout.fileno(), 'w', 0)  # flush print output immediately\n",
    "else:\n",
    "    import functools\n",
    "    print = functools.partial(print, flush=True)\n",
    "\n",
    "\n",
    "agent_host = MalmoPython.AgentHost()\n",
    "agent = UserAgent(agent_host)\n",
    "try:\n",
    "    agent_host.parse( sys.argv )\n",
    "except RuntimeError as e:\n",
    "    print('ERROR:', e)\n",
    "    print(agent_host.getUsage())\n",
    "    exit(1)\n",
    "\n",
    "if agent_host.receivedArgument(\"help\"):\n",
    "    print(agent_host.getUsage())\n",
    "    exit(0)"
   ]
  },
  {
   "cell_type": "code",
   "execution_count": 21,
   "metadata": {},
   "outputs": [
    {
     "name": "stdout",
     "output_type": "stream",
     "text": [
      "Loading mission from ./missions/easy/mission1/mission1.xml.\n",
      "Done loading mission file.\n"
     ]
    }
   ],
   "source": [
    "# -- set up the mission -- #\n",
    "mission_file = './missions/easy/mission1/mission1.xml'\n",
    "\n",
    "with open(mission_file, 'r') as f:\n",
    "    print(\"Loading mission from %s.\" % mission_file)\n",
    "    src = Template(f.read())\n",
    "    mission_xml = src.substitute({\"name\": \"Megan\"})\n",
    "    my_mission = MalmoPython.MissionSpec(mission_xml, True)\n",
    "    \n",
    "\n",
    "print(\"Done loading mission file.\")\n",
    "# print(mission_xml)"
   ]
  },
  {
   "cell_type": "code",
   "execution_count": 230,
   "metadata": {},
   "outputs": [
    {
     "name": "stdout",
     "output_type": "stream",
     "text": [
      "Loading mission from ./missions/hard/maze.xml.\n",
      "Done loading mission file.\n"
     ]
    }
   ],
   "source": [
    "# -- set up the mission -- #\n",
    "mission_file = './missions/hard/maze.xml'\n",
    "my_mission.forceWorldReset()\n",
    "with open(mission_file, 'r') as f:\n",
    "    print(\"Loading mission from %s.\" % mission_file)\n",
    "    mission_xml = f.read()\n",
    "    my_mission = MalmoPython.MissionSpec(mission_xml, True)\n",
    "    \n",
    "\n",
    "print(\"Done loading mission file.\")\n",
    "my_mission_record = MalmoPython.MissionRecordSpec()\n",
    "agent_host.startMission(my_mission, my_mission_record)\n",
    "# print(mission_xml)\n",
    "\n",
    "my_mission.startAt(2.0, 4.0, 1.5)"
   ]
  },
  {
   "cell_type": "code",
   "execution_count": 232,
   "metadata": {},
   "outputs": [],
   "source": [
    "# my_mission.drawBlock(1, 4, 1, \"lava\")\n",
    "# my_mission.drawBlock(1, 5, 2, \"lava\")\n",
    "\n",
    "my_mission.drawCuboid(3, 4, 0, 3, 10, 20, \"stone\")\n",
    "my_mission.drawCuboid(-3, 4, 0, -3, 10, 20, \"stone\")\n",
    "\n",
    "my_mission.drawCuboid(3, 4, 0, -3, 10, 0, \"stone\")\n",
    "my_mission.drawCuboid(3, 4, 20, -3, 10, 20, \"stone\")\n",
    "\n",
    "\n",
    "# my_mission.startAtWithPitchAndYaw(1, )\n",
    "# print(my_mission.getAsXML(True))"
   ]
  },
  {
   "cell_type": "code",
   "execution_count": 23,
   "metadata": {},
   "outputs": [],
   "source": [
    "my_mission.forceWorldReset()\n",
    "my_mission_record = MalmoPython.MissionRecordSpec()\n",
    "agent_host.startMission(my_mission, my_mission_record)"
   ]
  },
  {
   "cell_type": "code",
   "execution_count": 24,
   "metadata": {},
   "outputs": [
    {
     "name": "stdout",
     "output_type": "stream",
     "text": [
      "Waiting for the mission to start  mission started\n"
     ]
    }
   ],
   "source": [
    "print(\"Waiting for the mission to start\", end=' ')\n",
    "world_state = agent_host.getWorldState()\n",
    "while not world_state.has_mission_begun:\n",
    "    print(\".\", end=\"\")\n",
    "    time.sleep(0.1)\n",
    "    world_state = agent_host.getWorldState()\n",
    "    for error in world_state.errors:\n",
    "        print(\"Error:\",error.text)\n",
    "print(\" mission started\")"
   ]
  },
  {
   "cell_type": "code",
   "execution_count": 26,
   "metadata": {},
   "outputs": [
    {
     "name": "stdout",
     "output_type": "stream",
     "text": [
      "Random action: movewest 1\n",
      "Cumulative reward: 100\n"
     ]
    },
    {
     "ename": "NameError",
     "evalue": "name 'cumulative_rewards' is not defined",
     "output_type": "error",
     "traceback": [
      "\u001b[1;31m---------------------------------------------------------------------------\u001b[0m",
      "\u001b[1;31mNameError\u001b[0m                                 Traceback (most recent call last)",
      "\u001b[1;32m<ipython-input-26-f3bdb513ddbe>\u001b[0m in \u001b[0;36m<module>\u001b[1;34m()\u001b[0m\n\u001b[0;32m      1\u001b[0m \u001b[0mcumulative_reward\u001b[0m \u001b[1;33m=\u001b[0m \u001b[0magent\u001b[0m\u001b[1;33m.\u001b[0m\u001b[0mrun\u001b[0m\u001b[1;33m(\u001b[0m\u001b[1;33m)\u001b[0m\u001b[1;33m\u001b[0m\u001b[0m\n\u001b[0;32m      2\u001b[0m \u001b[0mprint\u001b[0m\u001b[1;33m(\u001b[0m\u001b[1;34m'Cumulative reward: %d'\u001b[0m \u001b[1;33m%\u001b[0m \u001b[0mcumulative_reward\u001b[0m\u001b[1;33m)\u001b[0m\u001b[1;33m\u001b[0m\u001b[0m\n\u001b[1;32m----> 3\u001b[1;33m \u001b[0mcumulative_rewards\u001b[0m \u001b[1;33m+=\u001b[0m \u001b[1;33m[\u001b[0m \u001b[0mcumulative_reward\u001b[0m \u001b[1;33m]\u001b[0m\u001b[1;33m\u001b[0m\u001b[0m\n\u001b[0m",
      "\u001b[1;31mNameError\u001b[0m: name 'cumulative_rewards' is not defined"
     ]
    }
   ],
   "source": [
    "cumulative_reward = agent.run()\n",
    "print('Cumulative reward: %d' % cumulative_reward)\n"
   ]
  },
  {
   "cell_type": "code",
   "execution_count": 17,
   "metadata": {},
   "outputs": [],
   "source": [
    "for x in range(1,4):\n",
    "    for z in range(1,13):\n",
    "        if random.random()<0.1:\n",
    "            my_mission.drawBlock(x, 4, z, \"lava\")"
   ]
  },
  {
   "cell_type": "code",
   "execution_count": 37,
   "metadata": {},
   "outputs": [
    {
     "name": "stdout",
     "output_type": "stream",
     "text": [
      "0 0 False\n"
     ]
    }
   ],
   "source": [
    "current_r = 0\n",
    "\n",
    "world_state = agent_host.getWorldState()\n",
    "for error in world_state.errors:\n",
    "    self.logger.error(\"Error: %s\" % error.text)\n",
    "\n",
    "for reward in world_state.rewards:\n",
    "    current_r += reward.getValue()\n",
    "\n",
    "print(len(world_state.observations), current_r, world_state.is_mission_running)"
   ]
  },
  {
   "cell_type": "code",
   "execution_count": 143,
   "metadata": {},
   "outputs": [],
   "source": [
    "my_mission.createDefaultTerrain()\n"
   ]
  },
  {
   "cell_type": "code",
   "execution_count": 64,
   "metadata": {},
   "outputs": [
    {
     "ename": "MissionException",
     "evalue": "Failed to kill Minecraft instance - mod is not dormant (is a mission still running?)",
     "output_type": "error",
     "traceback": [
      "\u001b[1;31m---------------------------------------------------------------------------\u001b[0m",
      "\u001b[1;31mMissionException\u001b[0m                          Traceback (most recent call last)",
      "\u001b[1;32m<ipython-input-64-269c08b7134d>\u001b[0m in \u001b[0;36m<module>\u001b[1;34m()\u001b[0m\n\u001b[0;32m      1\u001b[0m \u001b[1;33m\u001b[0m\u001b[0m\n\u001b[1;32m----> 2\u001b[1;33m \u001b[0magent_host\u001b[0m\u001b[1;33m.\u001b[0m\u001b[0mkillClient\u001b[0m\u001b[1;33m(\u001b[0m\u001b[0mClientInfo\u001b[0m\u001b[1;33m(\u001b[0m\u001b[1;34m\"localhost\"\u001b[0m\u001b[1;33m,\u001b[0m \u001b[1;36m10000\u001b[0m\u001b[1;33m)\u001b[0m\u001b[1;33m)\u001b[0m\u001b[1;33m\u001b[0m\u001b[0m\n\u001b[0m",
      "\u001b[1;31mMissionException\u001b[0m: Failed to kill Minecraft instance - mod is not dormant (is a mission still running?)"
     ]
    }
   ],
   "source": [
    "\n",
    "agent_host.killClient(ClientInfo(\"localhost\", 10000))"
   ]
  },
  {
   "cell_type": "code",
   "execution_count": 63,
   "metadata": {},
   "outputs": [],
   "source": [
    "from MalmoPython import ClientInfo"
   ]
  },
  {
   "cell_type": "code",
   "execution_count": 73,
   "metadata": {},
   "outputs": [],
   "source": [
    "\n"
   ]
  },
  {
   "cell_type": "code",
   "execution_count": null,
   "metadata": {},
   "outputs": [],
   "source": []
  }
 ],
 "metadata": {
  "kernelspec": {
   "display_name": "Python 3",
   "language": "python",
   "name": "python3"
  },
  "language_info": {
   "codemirror_mode": {
    "name": "ipython",
    "version": 3
   },
   "file_extension": ".py",
   "mimetype": "text/x-python",
   "name": "python",
   "nbconvert_exporter": "python",
   "pygments_lexer": "ipython3",
   "version": "3.6.2"
  }
 },
 "nbformat": 4,
 "nbformat_minor": 2
}
